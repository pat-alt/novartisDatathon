{
 "cells": [
  {
   "cell_type": "code",
   "execution_count": 19,
   "metadata": {},
   "outputs": [],
   "source": [
    "import pandas as pd\n",
    "import os\n",
    "\n",
    "from sklearn.tree import DecisionTreeRegressor\n",
    "from sklearn.model_selection import train_test_split\n",
    "from sklearn.model_selection import cross_val_score\n",
    "from sklearn.metrics import mean_absolute_error\n",
    "import matplotlib.pyplot as plt\n",
    "import seaborn as sns\n",
    "import category_encoders as ce\n",
    "\n",
    "pd.options.display.max_columns = 1999\n",
    "pd.options.display.max_rows = 1999"
   ]
  },
  {
   "cell_type": "code",
   "execution_count": 2,
   "metadata": {},
   "outputs": [],
   "source": [
    "def fill_with_pred(target, filler):\n",
    "    for i, val in enumerate(target):\n",
    "        if val != val:\n",
    "            target.iloc[i] = filler[i]\n",
    "    return target\n",
    "\n",
    "def custom_metric(actuals, forecast, avg_volume):\n",
    "    \"\"\"\n",
    "    This function aims to compute the Custom Accuracy Metric\n",
    "    for the Novartis Datathon, 3rd edition.\n",
    "\n",
    "    Given the actuals followed by the forecast and the avg_volume\n",
    "    of the brand, it will compute the metric score.\n",
    "\n",
    "    Keyword parameters:\n",
    "        actuals (float vector): Real value of Y\n",
    "        forecast (float vector): Volume forecast\n",
    "        avg_volume (float): Average monthly volume of the 12 months\n",
    "                            prior to the generic entry.\n",
    "\n",
    "    Returns:\n",
    "        custom_metric: Uncertainty Metric score (%)\n",
    "    \"\"\"\n",
    "\n",
    "    # Compute the first part of the equation\n",
    "    # (custom MAPE with Average volume)\n",
    "    custom_mape = sum(abs(actuals - forecast)) / (24 * avg_volume)\n",
    "\n",
    "    # Compute the second part of the equation\n",
    "    # (custom 6-first-months MAPE with Average volume)\n",
    "    six_month_mape = \\\n",
    "        abs(sum(actuals[:6]) - sum(forecast[:6])) / (6 * avg_volume)\n",
    "\n",
    "    # Compute the third part of the equation\n",
    "    # (custom 6-months MAPE with Average volume)\n",
    "    twelve_month_mape = \\\n",
    "        abs(sum(actuals[6:12]) - sum(forecast[6:12])) / (6 * avg_volume)\n",
    "\n",
    "    # Compute the fourth part of the equation\n",
    "    # (custom 12-months MAPE with Average volume)\n",
    "    last_month_mape = \\\n",
    "        abs(sum(actuals[12:]) - sum(forecast[12:])) / (12 * avg_volume)\n",
    "\n",
    "    # Compute the custom metric\n",
    "    custom_metric = 0.5 * custom_mape + 0.3 * six_month_mape + \\\n",
    "        0.1 * (twelve_month_mape + last_month_mape)\n",
    "\n",
    "    return custom_metric * 100"
   ]
  },
  {
   "cell_type": "code",
   "execution_count": 3,
   "metadata": {},
   "outputs": [],
   "source": [
    "generics_count = pd.read_csv('data/gx_num_generics.csv')\n",
    "package = pd.read_csv('data/gx_package.csv')\n",
    "gx_volume = pd.read_csv('data/gx_volume.csv')\n",
    "data_merged = pd.read_csv('data/dt_merged_w.csv')\n",
    "submission_template = pd.read_csv('data/submission_template.csv', index_col=0)"
   ]
  },
  {
   "cell_type": "code",
   "execution_count": 4,
   "metadata": {},
   "outputs": [],
   "source": [
    "data_test = data_merged[data_merged['test']]\n",
    "data_train = data_merged[data_merged['test'] == False]"
   ]
  },
  {
   "cell_type": "code",
   "execution_count": 5,
   "metadata": {},
   "outputs": [
    {
     "name": "stderr",
     "output_type": "stream",
     "text": [
      "/Users/simonneumeyer/opt/anaconda3/lib/python3.7/site-packages/pandas/core/frame.py:2963: SettingWithCopyWarning: \n",
      "A value is trying to be set on a copy of a slice from a DataFrame.\n",
      "Try using .loc[row_indexer,col_indexer] = value instead\n",
      "\n",
      "See the caveats in the documentation: https://pandas.pydata.org/pandas-docs/stable/user_guide/indexing.html#returning-a-view-versus-a-copy\n",
      "  self[k1] = value[k2]\n"
     ]
    }
   ],
   "source": [
    "# fill NA for channels:\n",
    "data_train[['A', 'B', 'C', 'D']] = data_train[['A', 'B', 'C', 'D']].fillna(0)\n",
    "data_test[['A', 'B', 'C', 'D']] = data_test[['A', 'B', 'C', 'D']].fillna(0)"
   ]
  },
  {
   "cell_type": "code",
   "execution_count": 6,
   "metadata": {},
   "outputs": [],
   "source": [
    "# define X, X_test, y_train, (y_test)\n",
    "X = data_train.iloc[:, :9]\n",
    "y_train = data_train.iloc[:, -24]\n",
    "X_test = data_test.iloc[:, :9]\n",
    "y_test = data_test.iloc[:, -24]\n",
    "\n",
    "# target encoding\n",
    "encoder = ce.TargetEncoder(cols=['brand'])\n",
    "encoder.fit(X, y_train)\n",
    "X = encoder.transform(X)\n",
    "X_test = encoder.transform(X_test)\n",
    "\n",
    "# get dummies\n",
    "X = pd.get_dummies(X)\n",
    "X_test = pd.get_dummies(X_test)"
   ]
  },
  {
   "cell_type": "code",
   "execution_count": null,
   "metadata": {},
   "outputs": [],
   "source": []
  },
  {
   "cell_type": "code",
   "execution_count": 7,
   "metadata": {},
   "outputs": [
    {
     "name": "stdout",
     "output_type": "stream",
     "text": [
      "(191, 38)\n",
      "(887,)\n",
      "(887, 38)\n"
     ]
    }
   ],
   "source": [
    "# force same features in test and train:\n",
    "col_to_use = X.columns[X.columns.isin(X_test.columns)]\n",
    "len(col_to_use)\n",
    "\n",
    "X = pd.concat([X[col_to_use]], axis=1)\n",
    "X_test = X_test[col_to_use]\n",
    "\n",
    "print(X_test.shape)\n",
    "print(y_train.shape)\n",
    "print(X.shape)"
   ]
  },
  {
   "cell_type": "markdown",
   "metadata": {},
   "source": [
    "## iterative prediction:"
   ]
  },
  {
   "cell_type": "code",
   "execution_count": 14,
   "metadata": {},
   "outputs": [
    {
     "name": "stdout",
     "output_type": "stream",
     "text": [
      "0\n",
      "1\n",
      "2\n",
      "3\n",
      "4\n",
      "5\n",
      "6\n",
      "7\n",
      "8\n",
      "9\n",
      "10\n",
      "11\n",
      "12\n",
      "13\n",
      "14\n",
      "15\n",
      "16\n",
      "17\n",
      "18\n",
      "19\n",
      "20\n",
      "21\n",
      "22\n",
      "23\n"
     ]
    }
   ],
   "source": [
    "for i in range(24):\n",
    "    print(i)\n",
    "    \n",
    "    # fit model:\n",
    "    regressor = DecisionTreeRegressor(random_state=0, criterion='mae')\n",
    "    regressor.fit(X, y_train)\n",
    "    \n",
    "    # predict:\n",
    "    y_pred_in_sample = regressor.predict(X)\n",
    "    y_pred_out_of_sample = regressor.predict(X_test) \n",
    "    \n",
    "    # fill nans of y_train with i.s. predictions if need be\n",
    "    # fill nans of y_test with o.o.s. predictions: (use predictions only when true values not known!!)\n",
    "    y_train = data_train.iloc[:, -24+i]\n",
    "    y_train = fill_with_pred(y_train.copy(), y_pred_in_sample)\n",
    "    y_test = data_test.iloc[:, -24+i]\n",
    "    y_test = fill_with_pred(y_test.copy(), y_pred_out_of_sample)    \n",
    "\n",
    "    X = pd.concat([X, y_train], axis=1)\n",
    "    X_test = pd.concat([X_test, y_test], axis=1)\n",
    "\n",
    "    # fill missing values y:\n",
    "    #y_pred_in_sample = y_pred_in_sample.fillna(0)\n",
    "#    y_test = data_merged.loc[list(y_test.index.values)].iloc[:,-23+i]\n",
    "    \n",
    "# kick out NAs for mae computation\n",
    "#y_pred_temp = y_pred[~y_test.reset_index(drop=True).isnull()]\n",
    "#y_test_temp = y_test[~y_test.isnull()]\n",
    "\n",
    "#mae_list.append(mean_absolute_error(y_test_temp, y_pred_temp))\n",
    "    "
   ]
  },
  {
   "cell_type": "code",
   "execution_count": 20,
   "metadata": {},
   "outputs": [],
   "source": [
    "#X_test"
   ]
  },
  {
   "cell_type": "code",
   "execution_count": null,
   "metadata": {},
   "outputs": [],
   "source": []
  },
  {
   "cell_type": "code",
   "execution_count": 17,
   "metadata": {},
   "outputs": [],
   "source": [
    "X_test.to_csv('predictions.csv', index=False)"
   ]
  },
  {
   "cell_type": "code",
   "execution_count": 42,
   "metadata": {},
   "outputs": [],
   "source": []
  },
  {
   "cell_type": "code",
   "execution_count": null,
   "metadata": {},
   "outputs": [],
   "source": []
  },
  {
   "cell_type": "code",
   "execution_count": null,
   "metadata": {},
   "outputs": [],
   "source": []
  },
  {
   "cell_type": "code",
   "execution_count": null,
   "metadata": {},
   "outputs": [],
   "source": []
  },
  {
   "cell_type": "code",
   "execution_count": null,
   "metadata": {},
   "outputs": [],
   "source": []
  },
  {
   "cell_type": "code",
   "execution_count": 18,
   "metadata": {},
   "outputs": [],
   "source": [
    "#plt.plot(X_test.iloc[1, -23:])"
   ]
  }
 ],
 "metadata": {
  "kernelspec": {
   "display_name": "Python 3",
   "language": "python",
   "name": "python3"
  },
  "language_info": {
   "codemirror_mode": {
    "name": "ipython",
    "version": 3
   },
   "file_extension": ".py",
   "mimetype": "text/x-python",
   "name": "python",
   "nbconvert_exporter": "python",
   "pygments_lexer": "ipython3",
   "version": "3.7.6"
  },
  "toc": {
   "base_numbering": 1,
   "nav_menu": {},
   "number_sections": true,
   "sideBar": true,
   "skip_h1_title": false,
   "title_cell": "Table of Contents",
   "title_sidebar": "Contents",
   "toc_cell": false,
   "toc_position": {},
   "toc_section_display": true,
   "toc_window_display": false
  }
 },
 "nbformat": 4,
 "nbformat_minor": 4
}
