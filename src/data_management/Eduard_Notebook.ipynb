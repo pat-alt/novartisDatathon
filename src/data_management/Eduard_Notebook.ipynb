{
 "cells": [
  {
   "cell_type": "code",
   "execution_count": 1,
   "metadata": {},
   "outputs": [],
   "source": [
    "%matplotlib inline"
   ]
  },
  {
   "cell_type": "code",
   "execution_count": 2,
   "metadata": {
    "scrolled": true
   },
   "outputs": [],
   "source": [
    "from data_management import get_data\n",
    "\n",
    "gx_volume = get_data()"
   ]
  },
  {
   "cell_type": "code",
   "execution_count": 3,
   "metadata": {},
   "outputs": [
    {
     "data": {
      "text/html": [
       "<div>\n",
       "<style scoped>\n",
       "    .dataframe tbody tr th:only-of-type {\n",
       "        vertical-align: middle;\n",
       "    }\n",
       "\n",
       "    .dataframe tbody tr th {\n",
       "        vertical-align: top;\n",
       "    }\n",
       "\n",
       "    .dataframe thead th {\n",
       "        text-align: right;\n",
       "    }\n",
       "</style>\n",
       "<table border=\"1\" class=\"dataframe\">\n",
       "  <thead>\n",
       "    <tr style=\"text-align: right;\">\n",
       "      <th></th>\n",
       "      <th>Unnamed: 0</th>\n",
       "      <th>country</th>\n",
       "      <th>brand</th>\n",
       "      <th>volume</th>\n",
       "      <th>month_num</th>\n",
       "      <th>month_name</th>\n",
       "      <th>therapeutic_area</th>\n",
       "      <th>channel</th>\n",
       "      <th>channel_rate</th>\n",
       "      <th>presentation</th>\n",
       "      <th>num_generics</th>\n",
       "      <th>volume_1</th>\n",
       "      <th>ratio</th>\n",
       "    </tr>\n",
       "  </thead>\n",
       "  <tbody>\n",
       "    <tr>\n",
       "      <th>0</th>\n",
       "      <td>1</td>\n",
       "      <td>country_1</td>\n",
       "      <td>brand_3</td>\n",
       "      <td>18509088.6</td>\n",
       "      <td>-88</td>\n",
       "      <td>Jul</td>\n",
       "      <td>Cardiovascular_Metabolic</td>\n",
       "      <td>B</td>\n",
       "      <td>1.189704</td>\n",
       "      <td>PILL</td>\n",
       "      <td>3</td>\n",
       "      <td>12056281.2</td>\n",
       "      <td>1.535224</td>\n",
       "    </tr>\n",
       "    <tr>\n",
       "      <th>1</th>\n",
       "      <td>1</td>\n",
       "      <td>country_1</td>\n",
       "      <td>brand_3</td>\n",
       "      <td>18509088.6</td>\n",
       "      <td>-88</td>\n",
       "      <td>Jul</td>\n",
       "      <td>Cardiovascular_Metabolic</td>\n",
       "      <td>B</td>\n",
       "      <td>1.189704</td>\n",
       "      <td>PILL</td>\n",
       "      <td>3</td>\n",
       "      <td>12056281.2</td>\n",
       "      <td>1.535224</td>\n",
       "    </tr>\n",
       "    <tr>\n",
       "      <th>2</th>\n",
       "      <td>1</td>\n",
       "      <td>country_1</td>\n",
       "      <td>brand_3</td>\n",
       "      <td>18509088.6</td>\n",
       "      <td>-88</td>\n",
       "      <td>Jul</td>\n",
       "      <td>Cardiovascular_Metabolic</td>\n",
       "      <td>D</td>\n",
       "      <td>98.810296</td>\n",
       "      <td>PILL</td>\n",
       "      <td>3</td>\n",
       "      <td>12056281.2</td>\n",
       "      <td>1.535224</td>\n",
       "    </tr>\n",
       "    <tr>\n",
       "      <th>3</th>\n",
       "      <td>1</td>\n",
       "      <td>country_1</td>\n",
       "      <td>brand_3</td>\n",
       "      <td>18509088.6</td>\n",
       "      <td>-88</td>\n",
       "      <td>Jul</td>\n",
       "      <td>Cardiovascular_Metabolic</td>\n",
       "      <td>D</td>\n",
       "      <td>98.810296</td>\n",
       "      <td>PILL</td>\n",
       "      <td>3</td>\n",
       "      <td>12056281.2</td>\n",
       "      <td>1.535224</td>\n",
       "    </tr>\n",
       "    <tr>\n",
       "      <th>4</th>\n",
       "      <td>2</td>\n",
       "      <td>country_1</td>\n",
       "      <td>brand_3</td>\n",
       "      <td>19697508.0</td>\n",
       "      <td>-87</td>\n",
       "      <td>Aug</td>\n",
       "      <td>Cardiovascular_Metabolic</td>\n",
       "      <td>B</td>\n",
       "      <td>1.189704</td>\n",
       "      <td>PILL</td>\n",
       "      <td>3</td>\n",
       "      <td>12056281.2</td>\n",
       "      <td>1.633796</td>\n",
       "    </tr>\n",
       "    <tr>\n",
       "      <th>...</th>\n",
       "      <td>...</td>\n",
       "      <td>...</td>\n",
       "      <td>...</td>\n",
       "      <td>...</td>\n",
       "      <td>...</td>\n",
       "      <td>...</td>\n",
       "      <td>...</td>\n",
       "      <td>...</td>\n",
       "      <td>...</td>\n",
       "      <td>...</td>\n",
       "      <td>...</td>\n",
       "      <td>...</td>\n",
       "      <td>...</td>\n",
       "    </tr>\n",
       "    <tr>\n",
       "      <th>480886</th>\n",
       "      <td>94846</td>\n",
       "      <td>country_16</td>\n",
       "      <td>brand_389</td>\n",
       "      <td>1971190.0</td>\n",
       "      <td>-1</td>\n",
       "      <td>Feb</td>\n",
       "      <td>Cardiovascular_Metabolic</td>\n",
       "      <td>C</td>\n",
       "      <td>0.436912</td>\n",
       "      <td>PILL</td>\n",
       "      <td>1</td>\n",
       "      <td>1971190.0</td>\n",
       "      <td>1.000000</td>\n",
       "    </tr>\n",
       "    <tr>\n",
       "      <th>480887</th>\n",
       "      <td>94846</td>\n",
       "      <td>country_16</td>\n",
       "      <td>brand_389</td>\n",
       "      <td>1971190.0</td>\n",
       "      <td>-1</td>\n",
       "      <td>Feb</td>\n",
       "      <td>Cardiovascular_Metabolic</td>\n",
       "      <td>C</td>\n",
       "      <td>0.436912</td>\n",
       "      <td>PILL</td>\n",
       "      <td>1</td>\n",
       "      <td>1971190.0</td>\n",
       "      <td>1.000000</td>\n",
       "    </tr>\n",
       "    <tr>\n",
       "      <th>480888</th>\n",
       "      <td>94846</td>\n",
       "      <td>country_16</td>\n",
       "      <td>brand_389</td>\n",
       "      <td>1971190.0</td>\n",
       "      <td>-1</td>\n",
       "      <td>Feb</td>\n",
       "      <td>Cardiovascular_Metabolic</td>\n",
       "      <td>D</td>\n",
       "      <td>98.214315</td>\n",
       "      <td>PILL</td>\n",
       "      <td>1</td>\n",
       "      <td>1971190.0</td>\n",
       "      <td>1.000000</td>\n",
       "    </tr>\n",
       "    <tr>\n",
       "      <th>480889</th>\n",
       "      <td>94846</td>\n",
       "      <td>country_16</td>\n",
       "      <td>brand_389</td>\n",
       "      <td>1971190.0</td>\n",
       "      <td>-1</td>\n",
       "      <td>Feb</td>\n",
       "      <td>Cardiovascular_Metabolic</td>\n",
       "      <td>D</td>\n",
       "      <td>98.214315</td>\n",
       "      <td>PILL</td>\n",
       "      <td>1</td>\n",
       "      <td>1971190.0</td>\n",
       "      <td>1.000000</td>\n",
       "    </tr>\n",
       "    <tr>\n",
       "      <th>480890</th>\n",
       "      <td>94846</td>\n",
       "      <td>country_16</td>\n",
       "      <td>brand_389</td>\n",
       "      <td>1971190.0</td>\n",
       "      <td>-1</td>\n",
       "      <td>Feb</td>\n",
       "      <td>Cardiovascular_Metabolic</td>\n",
       "      <td>D</td>\n",
       "      <td>98.214315</td>\n",
       "      <td>PILL</td>\n",
       "      <td>1</td>\n",
       "      <td>1971190.0</td>\n",
       "      <td>1.000000</td>\n",
       "    </tr>\n",
       "  </tbody>\n",
       "</table>\n",
       "<p>480891 rows × 13 columns</p>\n",
       "</div>"
      ],
      "text/plain": [
       "        Unnamed: 0     country      brand      volume  month_num month_name  \\\n",
       "0                1   country_1    brand_3  18509088.6        -88        Jul   \n",
       "1                1   country_1    brand_3  18509088.6        -88        Jul   \n",
       "2                1   country_1    brand_3  18509088.6        -88        Jul   \n",
       "3                1   country_1    brand_3  18509088.6        -88        Jul   \n",
       "4                2   country_1    brand_3  19697508.0        -87        Aug   \n",
       "...            ...         ...        ...         ...        ...        ...   \n",
       "480886       94846  country_16  brand_389   1971190.0         -1        Feb   \n",
       "480887       94846  country_16  brand_389   1971190.0         -1        Feb   \n",
       "480888       94846  country_16  brand_389   1971190.0         -1        Feb   \n",
       "480889       94846  country_16  brand_389   1971190.0         -1        Feb   \n",
       "480890       94846  country_16  brand_389   1971190.0         -1        Feb   \n",
       "\n",
       "                therapeutic_area channel  channel_rate presentation  \\\n",
       "0       Cardiovascular_Metabolic       B      1.189704         PILL   \n",
       "1       Cardiovascular_Metabolic       B      1.189704         PILL   \n",
       "2       Cardiovascular_Metabolic       D     98.810296         PILL   \n",
       "3       Cardiovascular_Metabolic       D     98.810296         PILL   \n",
       "4       Cardiovascular_Metabolic       B      1.189704         PILL   \n",
       "...                          ...     ...           ...          ...   \n",
       "480886  Cardiovascular_Metabolic       C      0.436912         PILL   \n",
       "480887  Cardiovascular_Metabolic       C      0.436912         PILL   \n",
       "480888  Cardiovascular_Metabolic       D     98.214315         PILL   \n",
       "480889  Cardiovascular_Metabolic       D     98.214315         PILL   \n",
       "480890  Cardiovascular_Metabolic       D     98.214315         PILL   \n",
       "\n",
       "        num_generics    volume_1     ratio  \n",
       "0                  3  12056281.2  1.535224  \n",
       "1                  3  12056281.2  1.535224  \n",
       "2                  3  12056281.2  1.535224  \n",
       "3                  3  12056281.2  1.535224  \n",
       "4                  3  12056281.2  1.633796  \n",
       "...              ...         ...       ...  \n",
       "480886             1   1971190.0  1.000000  \n",
       "480887             1   1971190.0  1.000000  \n",
       "480888             1   1971190.0  1.000000  \n",
       "480889             1   1971190.0  1.000000  \n",
       "480890             1   1971190.0  1.000000  \n",
       "\n",
       "[480891 rows x 13 columns]"
      ]
     },
     "execution_count": 3,
     "metadata": {},
     "output_type": "execute_result"
    }
   ],
   "source": [
    "gx_volume"
   ]
  },
  {
   "cell_type": "code",
   "execution_count": 4,
   "metadata": {
    "scrolled": true
   },
   "outputs": [
    {
     "data": {
      "text/plain": [
       "<matplotlib.axes._subplots.AxesSubplot at 0x11d0d72d0>"
      ]
     },
     "execution_count": 4,
     "metadata": {},
     "output_type": "execute_result"
    },
    {
     "data": {
      "image/png": "[encoded data removed]",
      "text/plain": [
       "<Figure size 432x288 with 1 Axes>"
      ]
     },
     "metadata": {
      "needs_background": "light"
     },
     "output_type": "display_data"
    }
   ],
   "source": [
    "gx_volume[gx_volume['month_num'] == 0]['ratio'].plot.hist(bins=50, xlim=(0, 1.5))"
   ]
  },
  {
   "cell_type": "code",
   "execution_count": 5,
   "metadata": {
    "scrolled": false
   },
   "outputs": [
    {
     "data": {
      "image/png": "[encoded data removed]",
      "text/plain": [
       "<Figure size 432x288 with 1 Axes>"
      ]
     },
     "metadata": {
      "needs_background": "light"
     },
     "output_type": "display_data"
    }
   ],
   "source": [
    "gx_volume[gx_volume['month_num'] == 0].groupby('country')['ratio'].plot.hist(bins=50, alpha=0.65);"
   ]
  },
  {
   "cell_type": "code",
   "execution_count": 6,
   "metadata": {},
   "outputs": [
    {
     "data": {
      "image/png": "[encoded data removed]",
      "text/plain": [
       "<Figure size 432x288 with 1 Axes>"
      ]
     },
     "metadata": {
      "needs_background": "light"
     },
     "output_type": "display_data"
    }
   ],
   "source": [
    "gx_volume[gx_volume['month_num'] == 0].groupby('therapeutic_area')['ratio'].hist(bins=50, alpha=0.65);"
   ]
  },
  {
   "cell_type": "code",
   "execution_count": 7,
   "metadata": {
    "scrolled": false
   },
   "outputs": [
    {
     "data": {
      "text/plain": [
       "<matplotlib.axes._subplots.AxesSubplot at 0x11911c0d0>"
      ]
     },
     "execution_count": 7,
     "metadata": {},
     "output_type": "execute_result"
    },
    {
     "data": {
      "image/png": "[encoded data removed]",
      "text/plain": [
       "<Figure size 432x288 with 1 Axes>"
      ]
     },
     "metadata": {
      "needs_background": "light"
     },
     "output_type": "display_data"
    }
   ],
   "source": [
    "gx_volume[gx_volume['month_num'] == 2]['ratio'].plot.hist(bins=50, xlim=(0, 1.5))"
   ]
  },
  {
   "cell_type": "code",
   "execution_count": 8,
   "metadata": {},
   "outputs": [
    {
     "data": {
      "image/png": "[encoded data removed]",
      "text/plain": [
       "<Figure size 432x288 with 1 Axes>"
      ]
     },
     "metadata": {
      "needs_background": "light"
     },
     "output_type": "display_data"
    }
   ],
   "source": [
    "ax = gx_volume[gx_volume['month_num'] == 3].groupby('country')['ratio'].hist(bins=50, alpha=0.65);"
   ]
  },
  {
   "cell_type": "code",
   "execution_count": 9,
   "metadata": {
    "scrolled": true
   },
   "outputs": [
    {
     "data": {
      "text/plain": [
       "<matplotlib.axes._subplots.AxesSubplot at 0x119310bd0>"
      ]
     },
     "execution_count": 9,
     "metadata": {},
     "output_type": "execute_result"
    },
    {
     "data": {
      "image/png": "[encoded data removed]",
      "text/plain": [
       "<Figure size 432x288 with 1 Axes>"
      ]
     },
     "metadata": {
      "needs_background": "light"
     },
     "output_type": "display_data"
    }
   ],
   "source": [
    "gx_volume[gx_volume['month_num'] == 5]['ratio'].plot.hist(bins=50, xlim=(0, 1.5))"
   ]
  },
  {
   "cell_type": "code",
   "execution_count": 88,
   "metadata": {
    "scrolled": true
   },
   "outputs": [
    {
     "data": {
      "image/png": "[encoded data removed]",
      "text/plain": [
       "<Figure size 432x288 with 1 Axes>"
      ]
     },
     "metadata": {
      "needs_background": "light"
     },
     "output_type": "display_data"
    }
   ],
   "source": [
    "ax = gx_volume[gx_volume['month_num'] == 5].groupby('country')['ratio'].hist(bins=50, alpha=0.65);"
   ]
  },
  {
   "cell_type": "code",
   "execution_count": 99,
   "metadata": {
    "scrolled": true
   },
   "outputs": [
    {
     "data": {
      "image/png": "[encoded data removed]",
      "text/plain": [
       "<Figure size 432x288 with 1 Axes>"
      ]
     },
     "metadata": {
      "needs_background": "light"
     },
     "output_type": "display_data"
    }
   ],
   "source": [
    "ax = gx_volume[(gx_volume['month_num'] == 5) & (gx_volume['country'] == 'country_7')].groupby('country')['ratio'].hist(bins=50, alpha=0.65);"
   ]
  },
  {
   "cell_type": "code",
   "execution_count": 104,
   "metadata": {
    "scrolled": true
   },
   "outputs": [
    {
     "data": {
      "image/png": "[encoded data removed]",
      "text/plain": [
       "<Figure size 432x288 with 1 Axes>"
      ]
     },
     "metadata": {
      "needs_background": "light"
     },
     "output_type": "display_data"
    }
   ],
   "source": [
    "ax = gx_volume[(gx_volume['month_num'] == 5) & (gx_volume['country'] == 'country_12')].groupby('country')['ratio'].hist(bins=50, alpha=0.65);"
   ]
  },
  {
   "cell_type": "code",
   "execution_count": 109,
   "metadata": {
    "scrolled": false
   },
   "outputs": [
    {
     "data": {
      "image/png": "[encoded data removed]",
      "text/plain": [
       "<Figure size 432x288 with 1 Axes>"
      ]
     },
     "metadata": {
      "needs_background": "light"
     },
     "output_type": "display_data"
    }
   ],
   "source": [
    "ax = gx_volume[(gx_volume['month_num'] == 5) & (gx_volume['country'] == 'country_15')].groupby('country')['ratio'].hist(bins=50, alpha=0.65);"
   ]
  },
  {
   "cell_type": "code",
   "execution_count": 110,
   "metadata": {},
   "outputs": [
    {
     "data": {
      "image/png": "[encoded data removed]",
      "text/plain": [
       "<Figure size 432x288 with 1 Axes>"
      ]
     },
     "metadata": {
      "needs_background": "light"
     },
     "output_type": "display_data"
    }
   ],
   "source": [
    "ax = gx_volume[(gx_volume['month_num'] == 5) & (gx_volume['country'] == 'country_16')].groupby('country')['ratio'].hist(bins=50, alpha=0.65);"
   ]
  },
  {
   "cell_type": "code",
   "execution_count": 66,
   "metadata": {
    "scrolled": true
   },
   "outputs": [
    {
     "data": {
      "text/plain": [
       "<AxesSubplot:ylabel='Frequency'>"
      ]
     },
     "execution_count": 66,
     "metadata": {},
     "output_type": "execute_result"
    },
    {
     "data": {
      "image/png": "[encoded data removed]",
      "text/plain": [
       "<Figure size 432x288 with 1 Axes>"
      ]
     },
     "metadata": {
      "needs_background": "light"
     },
     "output_type": "display_data"
    }
   ],
   "source": [
    "gx_volume[gx_volume['month_num'] == 11]['ratio'].plot.hist(bins=50, xlim=(0, 1.5))"
   ]
  },
  {
   "cell_type": "code",
   "execution_count": 89,
   "metadata": {},
   "outputs": [
    {
     "data": {
      "image/png": "[encoded data removed]",
      "text/plain": [
       "<Figure size 432x288 with 1 Axes>"
      ]
     },
     "metadata": {
      "needs_background": "light"
     },
     "output_type": "display_data"
    }
   ],
   "source": [
    "ax = gx_volume[gx_volume['month_num'] == 11].groupby('country')['ratio'].hist(bins=50, alpha=0.65);"
   ]
  },
  {
   "cell_type": "code",
   "execution_count": 68,
   "metadata": {
    "scrolled": true
   },
   "outputs": [
    {
     "data": {
      "text/plain": [
       "<AxesSubplot:ylabel='Frequency'>"
      ]
     },
     "execution_count": 68,
     "metadata": {},
     "output_type": "execute_result"
    },
    {
     "data": {
      "image/png": "[encoded data removed]",
      "text/plain": [
       "<Figure size 432x288 with 1 Axes>"
      ]
     },
     "metadata": {
      "needs_background": "light"
     },
     "output_type": "display_data"
    }
   ],
   "source": [
    "gx_volume[gx_volume['month_num'] == 17]['ratio'].plot.hist(bins=50, xlim=(0, 1.5))"
   ]
  },
  {
   "cell_type": "code",
   "execution_count": 90,
   "metadata": {},
   "outputs": [
    {
     "data": {
      "image/png": "[encoded data removed]",
      "text/plain": [
       "<Figure size 432x288 with 1 Axes>"
      ]
     },
     "metadata": {
      "needs_background": "light"
     },
     "output_type": "display_data"
    }
   ],
   "source": [
    "ax = gx_volume[gx_volume['month_num'] == 17].groupby('country')['ratio'].hist(bins=50, alpha=0.65);"
   ]
  },
  {
   "cell_type": "code",
   "execution_count": 70,
   "metadata": {
    "scrolled": true
   },
   "outputs": [
    {
     "data": {
      "text/plain": [
       "<AxesSubplot:ylabel='Frequency'>"
      ]
     },
     "execution_count": 70,
     "metadata": {},
     "output_type": "execute_result"
    },
    {
     "data": {
      "image/png": "[encoded data removed]",
      "text/plain": [
       "<Figure size 432x288 with 1 Axes>"
      ]
     },
     "metadata": {
      "needs_background": "light"
     },
     "output_type": "display_data"
    }
   ],
   "source": [
    "gx_volume[gx_volume['month_num'] == 23]['ratio'].plot.hist(bins=50, xlim=(0, 1.5))"
   ]
  },
  {
   "cell_type": "code",
   "execution_count": 91,
   "metadata": {
    "scrolled": true
   },
   "outputs": [
    {
     "data": {
      "image/png": "[encoded data removed]",
      "text/plain": [
       "<Figure size 432x288 with 1 Axes>"
      ]
     },
     "metadata": {
      "needs_background": "light"
     },
     "output_type": "display_data"
    }
   ],
   "source": [
    "ax = gx_volume[gx_volume['month_num'] == 23].groupby('country')['ratio'].hist(bins=50, alpha=0.65);"
   ]
  },
  {
   "cell_type": "code",
   "execution_count": 72,
   "metadata": {
    "scrolled": false
   },
   "outputs": [
    {
     "data": {
      "image/png": "[encoded data removed]",
      "text/plain": [
       "<Figure size 432x288 with 1 Axes>"
      ]
     },
     "metadata": {
      "needs_background": "light"
     },
     "output_type": "display_data"
    }
   ],
   "source": [
    "gx_volume[gx_volume['month_num'] == 23].groupby('therapeutic_area')['ratio'].hist(bins=50, alpha=0.65);"
   ]
  },
  {
   "cell_type": "code",
   "execution_count": 77,
   "metadata": {},
   "outputs": [
    {
     "data": {
      "text/plain": [
       "<AxesSubplot:>"
      ]
     },
     "execution_count": 77,
     "metadata": {},
     "output_type": "execute_result"
    },
    {
     "data": {
      "image/png": "[encoded data removed]",
      "text/plain": [
       "<Figure size 432x288 with 1 Axes>"
      ]
     },
     "metadata": {
      "needs_background": "light"
     },
     "output_type": "display_data"
    }
   ],
   "source": [
    "# Caracterizamos Admission Time\n",
    "from sklearn.tree import DecisionTreeRegressor\n",
    "from sklearn.tree import export_text\n",
    "from sklearn import preprocessing\n",
    "import pandas as pd\n",
    "\n",
    "le = preprocessing.LabelEncoder()\n",
    "\n",
    "data_X = gx_volume[gx_volume['month_num'] == 23].drop(['ratio', 'brand', 'volume', 'volume_1'], axis=1)\n",
    "\n",
    "data_X.country = le.fit(data_X.country.unique()).transform(data_X.country)\n",
    "data_X.presentation = le.fit(data_X.presentation.unique()).transform(data_X.presentation)\n",
    "data_X.month_name = le.fit(data_X.month_name.unique()).transform(data_X.month_name)\n",
    "data_X.therapeutic_area = le.fit(data_X.therapeutic_area.unique()).transform(data_X.therapeutic_area)\n",
    "data_X.channel = le.fit(data_X.channel.unique()).transform(data_X.channel)\n",
    "\n",
    "\n",
    "data_Y = gx_volume[gx_volume['month_num'] == 23]['ratio']\n",
    "\n",
    "decision_tree = DecisionTreeRegressor(random_state=0, max_depth=5)\n",
    "decision_tree = decision_tree.fit(data_X, data_Y)\n",
    "feat_importances = pd.Series(decision_tree.feature_importances_, index=data_X.columns)\n",
    "feat_importances.nlargest(10).plot(kind='barh')\n"
   ]
  }
 ],
 "metadata": {
  "kernelspec": {
   "display_name": "Python 3",
   "language": "python",
   "name": "python3"
  },
  "language_info": {
   "codemirror_mode": {
    "name": "ipython",
    "version": 3
   },
   "file_extension": ".py",
   "mimetype": "text/x-python",
   "name": "python",
   "nbconvert_exporter": "python",
   "pygments_lexer": "ipython3",
   "version": "3.7.6"
  },
  "toc": {
   "base_numbering": 1,
   "nav_menu": {},
   "number_sections": true,
   "sideBar": true,
   "skip_h1_title": false,
   "title_cell": "Table of Contents",
   "title_sidebar": "Contents",
   "toc_cell": false,
   "toc_position": {},
   "toc_section_display": true,
   "toc_window_display": false
  }
 },
 "nbformat": 4,
 "nbformat_minor": 4
}
